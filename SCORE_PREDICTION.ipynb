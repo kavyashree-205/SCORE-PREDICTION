{
  "nbformat": 4,
  "nbformat_minor": 0,
  "metadata": {
    "colab": {
      "name": "SCORE PREDICTION.ipynb",
      "provenance": [],
      "collapsed_sections": [],
      "authorship_tag": "ABX9TyPHf4uPnIp6xf7tDnIbgxjU",
      "include_colab_link": true
    },
    "kernelspec": {
      "name": "python3",
      "display_name": "Python 3"
    }
  },
  "cells": [
    {
      "cell_type": "markdown",
      "metadata": {
        "id": "view-in-github",
        "colab_type": "text"
      },
      "source": [
        "<a href=\"https://colab.research.google.com/github/kavyashree-205/SCORE-PREDICTION/blob/main/SCORE_PREDICTION.ipynb\" target=\"_parent\"><img src=\"https://colab.research.google.com/assets/colab-badge.svg\" alt=\"Open In Colab\"/></a>"
      ]
    },
    {
      "cell_type": "markdown",
      "metadata": {
        "id": "YTJ_a06BaBO4"
      },
      "source": [
        "# **THE GIVEN PROBLEM IS TO PREDICT THE PERCENTAGE OF MARKS OF AN STUDENT BASED ON THE NUMBE ROF STUDY HOURS**\n",
        "The problem given is to caluculate the percentage of marks when studied for 9.25hrs.This problem can be solved by using Linear Regression with one independent variable(HOURS) and a dependent variable(SCORES)."
      ]
    },
    {
      "cell_type": "markdown",
      "metadata": {
        "id": "8mx7CeYyfEeh"
      },
      "source": [
        "# **IMPORTING LIBRARIES FOR SUPERVISED MACHINE LEARNING**"
      ]
    },
    {
      "cell_type": "code",
      "metadata": {
        "id": "oEeVB1UoCBIe"
      },
      "source": [
        "import numpy as np\n",
        "import pandas as pd\n",
        "import matplotlib.pyplot as plt\n",
        "import seaborn as sns\n",
        "from sklearn.model_selection import train_test_split\n",
        "from sklearn.linear_model import LinearRegression\n",
        "import urllib.request"
      ],
      "execution_count": 2,
      "outputs": []
    },
    {
      "cell_type": "code",
      "metadata": {
        "id": "D1M-iI7hFgvK"
      },
      "source": [
        "url=\"https://raw.githubusercontent.com/AdiPersonalWorks/Random/master/student_scores%20-%20student_scores.csv\""
      ],
      "execution_count": 3,
      "outputs": []
    },
    {
      "cell_type": "code",
      "metadata": {
        "id": "hANVgi8ZGA7K",
        "outputId": "0203b422-c467-4312-e4d7-5b1b4d5e2bad",
        "colab": {
          "base_uri": "https://localhost:8080/"
        }
      },
      "source": [
        "urllib.request.urlretrieve(url)"
      ],
      "execution_count": 4,
      "outputs": [
        {
          "output_type": "execute_result",
          "data": {
            "text/plain": [
              "('/tmp/tmp77d9hk1a', <http.client.HTTPMessage at 0x7f90206ffeb8>)"
            ]
          },
          "metadata": {
            "tags": []
          },
          "execution_count": 4
        }
      ]
    },
    {
      "cell_type": "markdown",
      "metadata": {
        "id": "JFwVmta9farQ"
      },
      "source": [
        "# **LOADING THE GIVEN DATASET**"
      ]
    },
    {
      "cell_type": "code",
      "metadata": {
        "id": "nZPXnRVLGWW6"
      },
      "source": [
        "df=pd.read_csv(url)"
      ],
      "execution_count": 5,
      "outputs": []
    },
    {
      "cell_type": "markdown",
      "metadata": {
        "id": "9Mpzk3AZfiok"
      },
      "source": [
        "# **UNDERSTANDING THE DATA**\n",
        "- UNDERSTAND THE MEANING OF THE FIELD NAMES\n",
        "- KNOW THE 5 SUMMARY VALUES OF THE ATTRIBUTES\n",
        "- KNOW THE DATATYPE OF EACH COLUMN\n",
        "- KNOW THE SHAPE OF THE DATASET"
      ]
    },
    {
      "cell_type": "markdown",
      "metadata": {
        "id": "bOgI5QVjgtT5"
      },
      "source": [
        "# **MEANING OF ATTRIBUTES**\n",
        "HOURS -- The number of hours spent on studying.\n",
        "\n",
        "SCORES -- The score obtained with respect to hours studied."
      ]
    },
    {
      "cell_type": "code",
      "metadata": {
        "id": "rvxFtPc_GbA6",
        "outputId": "ece93eaa-dba6-4741-d19f-fb02ddcddd81",
        "colab": {
          "base_uri": "https://localhost:8080/",
          "height": 343
        }
      },
      "source": [
        "df.head(10)"
      ],
      "execution_count": 6,
      "outputs": [
        {
          "output_type": "execute_result",
          "data": {
            "text/html": [
              "<div>\n",
              "<style scoped>\n",
              "    .dataframe tbody tr th:only-of-type {\n",
              "        vertical-align: middle;\n",
              "    }\n",
              "\n",
              "    .dataframe tbody tr th {\n",
              "        vertical-align: top;\n",
              "    }\n",
              "\n",
              "    .dataframe thead th {\n",
              "        text-align: right;\n",
              "    }\n",
              "</style>\n",
              "<table border=\"1\" class=\"dataframe\">\n",
              "  <thead>\n",
              "    <tr style=\"text-align: right;\">\n",
              "      <th></th>\n",
              "      <th>Hours</th>\n",
              "      <th>Scores</th>\n",
              "    </tr>\n",
              "  </thead>\n",
              "  <tbody>\n",
              "    <tr>\n",
              "      <th>0</th>\n",
              "      <td>2.5</td>\n",
              "      <td>21</td>\n",
              "    </tr>\n",
              "    <tr>\n",
              "      <th>1</th>\n",
              "      <td>5.1</td>\n",
              "      <td>47</td>\n",
              "    </tr>\n",
              "    <tr>\n",
              "      <th>2</th>\n",
              "      <td>3.2</td>\n",
              "      <td>27</td>\n",
              "    </tr>\n",
              "    <tr>\n",
              "      <th>3</th>\n",
              "      <td>8.5</td>\n",
              "      <td>75</td>\n",
              "    </tr>\n",
              "    <tr>\n",
              "      <th>4</th>\n",
              "      <td>3.5</td>\n",
              "      <td>30</td>\n",
              "    </tr>\n",
              "    <tr>\n",
              "      <th>5</th>\n",
              "      <td>1.5</td>\n",
              "      <td>20</td>\n",
              "    </tr>\n",
              "    <tr>\n",
              "      <th>6</th>\n",
              "      <td>9.2</td>\n",
              "      <td>88</td>\n",
              "    </tr>\n",
              "    <tr>\n",
              "      <th>7</th>\n",
              "      <td>5.5</td>\n",
              "      <td>60</td>\n",
              "    </tr>\n",
              "    <tr>\n",
              "      <th>8</th>\n",
              "      <td>8.3</td>\n",
              "      <td>81</td>\n",
              "    </tr>\n",
              "    <tr>\n",
              "      <th>9</th>\n",
              "      <td>2.7</td>\n",
              "      <td>25</td>\n",
              "    </tr>\n",
              "  </tbody>\n",
              "</table>\n",
              "</div>"
            ],
            "text/plain": [
              "   Hours  Scores\n",
              "0    2.5      21\n",
              "1    5.1      47\n",
              "2    3.2      27\n",
              "3    8.5      75\n",
              "4    3.5      30\n",
              "5    1.5      20\n",
              "6    9.2      88\n",
              "7    5.5      60\n",
              "8    8.3      81\n",
              "9    2.7      25"
            ]
          },
          "metadata": {
            "tags": []
          },
          "execution_count": 6
        }
      ]
    },
    {
      "cell_type": "code",
      "metadata": {
        "id": "nlzlhYTQZYCy",
        "outputId": "5d21eef2-ec7c-4d4f-bcba-009727d7d292",
        "colab": {
          "base_uri": "https://localhost:8080/"
        }
      },
      "source": [
        "df.columns"
      ],
      "execution_count": 7,
      "outputs": [
        {
          "output_type": "execute_result",
          "data": {
            "text/plain": [
              "Index(['Hours', 'Scores'], dtype='object')"
            ]
          },
          "metadata": {
            "tags": []
          },
          "execution_count": 7
        }
      ]
    },
    {
      "cell_type": "code",
      "metadata": {
        "id": "2VMn852oGchK",
        "outputId": "359b07fc-5e6e-471d-c30c-7512a57c9d4b",
        "colab": {
          "base_uri": "https://localhost:8080/",
          "height": 284
        }
      },
      "source": [
        "df.describe()"
      ],
      "execution_count": 8,
      "outputs": [
        {
          "output_type": "execute_result",
          "data": {
            "text/html": [
              "<div>\n",
              "<style scoped>\n",
              "    .dataframe tbody tr th:only-of-type {\n",
              "        vertical-align: middle;\n",
              "    }\n",
              "\n",
              "    .dataframe tbody tr th {\n",
              "        vertical-align: top;\n",
              "    }\n",
              "\n",
              "    .dataframe thead th {\n",
              "        text-align: right;\n",
              "    }\n",
              "</style>\n",
              "<table border=\"1\" class=\"dataframe\">\n",
              "  <thead>\n",
              "    <tr style=\"text-align: right;\">\n",
              "      <th></th>\n",
              "      <th>Hours</th>\n",
              "      <th>Scores</th>\n",
              "    </tr>\n",
              "  </thead>\n",
              "  <tbody>\n",
              "    <tr>\n",
              "      <th>count</th>\n",
              "      <td>25.000000</td>\n",
              "      <td>25.000000</td>\n",
              "    </tr>\n",
              "    <tr>\n",
              "      <th>mean</th>\n",
              "      <td>5.012000</td>\n",
              "      <td>51.480000</td>\n",
              "    </tr>\n",
              "    <tr>\n",
              "      <th>std</th>\n",
              "      <td>2.525094</td>\n",
              "      <td>25.286887</td>\n",
              "    </tr>\n",
              "    <tr>\n",
              "      <th>min</th>\n",
              "      <td>1.100000</td>\n",
              "      <td>17.000000</td>\n",
              "    </tr>\n",
              "    <tr>\n",
              "      <th>25%</th>\n",
              "      <td>2.700000</td>\n",
              "      <td>30.000000</td>\n",
              "    </tr>\n",
              "    <tr>\n",
              "      <th>50%</th>\n",
              "      <td>4.800000</td>\n",
              "      <td>47.000000</td>\n",
              "    </tr>\n",
              "    <tr>\n",
              "      <th>75%</th>\n",
              "      <td>7.400000</td>\n",
              "      <td>75.000000</td>\n",
              "    </tr>\n",
              "    <tr>\n",
              "      <th>max</th>\n",
              "      <td>9.200000</td>\n",
              "      <td>95.000000</td>\n",
              "    </tr>\n",
              "  </tbody>\n",
              "</table>\n",
              "</div>"
            ],
            "text/plain": [
              "           Hours     Scores\n",
              "count  25.000000  25.000000\n",
              "mean    5.012000  51.480000\n",
              "std     2.525094  25.286887\n",
              "min     1.100000  17.000000\n",
              "25%     2.700000  30.000000\n",
              "50%     4.800000  47.000000\n",
              "75%     7.400000  75.000000\n",
              "max     9.200000  95.000000"
            ]
          },
          "metadata": {
            "tags": []
          },
          "execution_count": 8
        }
      ]
    },
    {
      "cell_type": "code",
      "metadata": {
        "id": "mJM6MD-_GmC5",
        "outputId": "07b4e252-65e8-4f06-f81e-0cd32b1cfa3b",
        "colab": {
          "base_uri": "https://localhost:8080/"
        }
      },
      "source": [
        "df.info()"
      ],
      "execution_count": 9,
      "outputs": [
        {
          "output_type": "stream",
          "text": [
            "<class 'pandas.core.frame.DataFrame'>\n",
            "RangeIndex: 25 entries, 0 to 24\n",
            "Data columns (total 2 columns):\n",
            " #   Column  Non-Null Count  Dtype  \n",
            "---  ------  --------------  -----  \n",
            " 0   Hours   25 non-null     float64\n",
            " 1   Scores  25 non-null     int64  \n",
            "dtypes: float64(1), int64(1)\n",
            "memory usage: 528.0 bytes\n"
          ],
          "name": "stdout"
        }
      ]
    },
    {
      "cell_type": "code",
      "metadata": {
        "id": "TVpBdSi8h4tf",
        "outputId": "54099395-aec9-4fa3-b35d-2b8dc424c281",
        "colab": {
          "base_uri": "https://localhost:8080/"
        }
      },
      "source": [
        "print(\"THE SHAPE OF THE DATATSET IS :\",df.shape)"
      ],
      "execution_count": 10,
      "outputs": [
        {
          "output_type": "stream",
          "text": [
            "THE SHAPE OF THE DATATSET IS : (25, 2)\n"
          ],
          "name": "stdout"
        }
      ]
    },
    {
      "cell_type": "markdown",
      "metadata": {
        "id": "BsNOqZrAiEwG"
      },
      "source": [
        "# **DENSITY PLOT**\n",
        "The densioty plot is similar to histogram which helps to know to distribution of attributes in the dataset.\n",
        "It displays the shape and spread of continues data\n",
        "\n",
        "(SINCE THIS IS A SMALL DATASET YOU CAN SKIP THIS STEP)"
      ]
    },
    {
      "cell_type": "code",
      "metadata": {
        "id": "2dyrm9FUGxMR",
        "outputId": "382c849e-eba2-4c84-80fc-df0bcaf7d440",
        "colab": {
          "base_uri": "https://localhost:8080/",
          "height": 291
        }
      },
      "source": [
        "#plotting density plot\n",
        "figure0=plt.figure()\n",
        "plt.style.use(\"seaborn-whitegrid\")\n",
        "sns.kdeplot(data=df,x='Scores',shade=True,color=\"blue\")\n",
        "plt.title(\"DENSITY PLOT OF SCORES\")\n",
        "plt.show()"
      ],
      "execution_count": 18,
      "outputs": [
        {
          "output_type": "display_data",
          "data": {
            "image/png": "[encoded data removed]",
            "text/plain": [
              "<Figure size 432x288 with 1 Axes>"
            ]
          },
          "metadata": {
            "tags": []
          }
        }
      ]
    },
    {
      "cell_type": "code",
      "metadata": {
        "id": "dR2iuF3Sa1RM",
        "outputId": "aaa64cbc-9472-4597-b9d0-ce715080d860",
        "colab": {
          "base_uri": "https://localhost:8080/",
          "height": 291
        }
      },
      "source": [
        "#plotting density plot\n",
        "figure1=plt.figure()\n",
        "plt.style.use(\"seaborn-whitegrid\")\n",
        "sns.kdeplot(data=df,x='Hours',shade=True,color=\"RED\")\n",
        "plt.title(\"DENSITY PLOT OF HOURS\")\n",
        "plt.show()"
      ],
      "execution_count": 19,
      "outputs": [
        {
          "output_type": "display_data",
          "data": {
            "image/png": "[encoded data removed]",
            "text/plain": [
              "<Figure size 432x288 with 1 Axes>"
            ]
          },
          "metadata": {
            "tags": []
          }
        }
      ]
    },
    {
      "cell_type": "code",
      "metadata": {
        "id": "78Hh7ZjQbGPw",
        "outputId": "4c43d9c8-f14a-43b6-c930-a4752a4bdbfa",
        "colab": {
          "base_uri": "https://localhost:8080/",
          "height": 440
        }
      },
      "source": [
        "figure2=plt.figure(figsize=(10,7))\n",
        "sns.kdeplot(df['Scores'],color=\"blue\",shade=True)\n",
        "sns.kdeplot(df['Hours'],color=\"red\",shade=True)\n",
        "plt.title(\"DENSITY PLOT OF SCORES AND HOURS\")\n",
        "plt.xlabel('')\n",
        "plt.legend(['Scores','Hours'])\n",
        "plt.show()"
      ],
      "execution_count": 26,
      "outputs": [
        {
          "output_type": "display_data",
          "data": {
            "image/png": "[encoded data removed]",
            "text/plain": [
              "<Figure size 720x504 with 1 Axes>"
            ]
          },
          "metadata": {
            "tags": []
          }
        }
      ]
    },
    {
      "cell_type": "markdown",
      "metadata": {
        "id": "Ccgxpi2QjTJi"
      },
      "source": [
        "# **LINEAR REGRESSION :**\n",
        "Linear regression in simple terms is fitting all the values of the dataset with least residual value into a function which is linear in nature y=ax+b.\n",
        "\n",
        "# **RESIDUAL:**\n",
        "Residual is the difference between actual value and the predicted value.\n",
        "\n",
        "# **NOTE:**\n",
        "The sum of the residuals is always equal to zero."
      ]
    },
    {
      "cell_type": "markdown",
      "metadata": {
        "id": "6a1lBZHSjtOF"
      },
      "source": [
        " **SINCE THE CORRELATION IS GREATER THAN 0.5 HENCE WE CAN PROCEED FOR LINEAR REGRESSION MODEL**"
      ]
    },
    {
      "cell_type": "markdown",
      "metadata": {
        "id": "PhDwxE2pkEwq"
      },
      "source": [
        "# **HEAT MAP**"
      ]
    },
    {
      "cell_type": "code",
      "metadata": {
        "id": "jW2oUEBEHTeR",
        "outputId": "e1eea009-c086-4b68-8254-02dc004c1522",
        "colab": {
          "base_uri": "https://localhost:8080/",
          "height": 277
        }
      },
      "source": [
        "#relationship analysis\n",
        "figure_3=df.corr()\n",
        "sns.heatmap(figure_3,annot=True)\n",
        "plt.title(\"HEAT MAP OF SCORES AND HOURS\")\n",
        "plt.show()"
      ],
      "execution_count": 36,
      "outputs": [
        {
          "output_type": "display_data",
          "data": {
            "image/png": "[encoded data removed]",
            "text/plain": [
              "<Figure size 432x288 with 2 Axes>"
            ]
          },
          "metadata": {
            "tags": []
          }
        }
      ]
    },
    {
      "cell_type": "markdown",
      "metadata": {
        "id": "hSCOWckwkMYp"
      },
      "source": [
        "# **PAIR PLOT**"
      ]
    },
    {
      "cell_type": "code",
      "metadata": {
        "id": "M4SJXaOweCTW",
        "outputId": "ef826898-46ed-49ba-83cb-c0dca2a0e023",
        "colab": {
          "base_uri": "https://localhost:8080/",
          "height": 389
        }
      },
      "source": [
        "sns.pairplot(df)\n",
        "plt.title(\"PAIR PLOT OF THE FIELD NAMES\")\n",
        "plt.show()"
      ],
      "execution_count": 38,
      "outputs": [
        {
          "output_type": "display_data",
          "data": {
            "image/png": "[encoded data removed]",
            "text/plain": [
              "<Figure size 360x360 with 6 Axes>"
            ]
          },
          "metadata": {
            "tags": []
          }
        }
      ]
    },
    {
      "cell_type": "markdown",
      "metadata": {
        "id": "qWGEP7HKkRqF"
      },
      "source": [
        "# **SCATTER PLOT:**\n",
        "**Scatter plot gives the relationship between two numeric variables,hence we can conclude wheter the two variables are strongly correlated or weakly correlated.**"
      ]
    },
    {
      "cell_type": "code",
      "metadata": {
        "id": "PMkQxtHcIvix",
        "outputId": "7829f423-4335-47b8-84fe-575d04d1cd73",
        "colab": {
          "base_uri": "https://localhost:8080/",
          "height": 454
        }
      },
      "source": [
        "#scatter plot of hours vs scores\n",
        "figure_4=plt.figure(figsize=(10,7))\n",
        "plt.style.use(\"seaborn-whitegrid\")\n",
        "plt.scatter(x=df['Hours'],y=df['Scores'],color=\"black\")\n",
        "plt.title(\"SCATTER PLOT OF HOURS Vs SCORES\")\n",
        "plt.xlabel(\"HOURS\")\n",
        "plt.ylabel(\"SCORES\")\n",
        "plt.show()"
      ],
      "execution_count": 39,
      "outputs": [
        {
          "output_type": "display_data",
          "data": {
            "image/png": "[encoded data removed]",
            "text/plain": [
              "<Figure size 720x504 with 1 Axes>"
            ]
          },
          "metadata": {
            "tags": []
          }
        }
      ]
    },
    {
      "cell_type": "markdown",
      "metadata": {
        "id": "cRZLOLrAlIgY"
      },
      "source": [
        "# **LINEAR REGRESSION MODEL:**\n",
        "# **STEP 1:**\n",
        "#**Split the dataset into test and train set**.\n",
        "#**Here we conside 80% of the data to be train set and 20% of the data as test set**"
      ]
    },
    {
      "cell_type": "code",
      "metadata": {
        "id": "lRvaP7RlKmV3",
        "outputId": "e3456bb7-5fd2-4ff8-bc31-cfef34b8b888",
        "colab": {
          "base_uri": "https://localhost:8080/"
        }
      },
      "source": [
        "#splitting the data into test and train sets\n",
        "X=df.iloc[:,0].values\n",
        "Y=df.iloc[:,-1].values\n",
        "X=X.reshape(-1,1)\n",
        "print(\"THE INPUT(INDEPENDENT VARIABLE):\",X)\n",
        "print(\"THE OUTPUT(DEPENDENT VARIABLE OR TARGET VARIABLE):\",Y)"
      ],
      "execution_count": 40,
      "outputs": [
        {
          "output_type": "stream",
          "text": [
            "THE INPUT(INDEPENDENT VARIABLE): [[2.5]\n",
            " [5.1]\n",
            " [3.2]\n",
            " [8.5]\n",
            " [3.5]\n",
            " [1.5]\n",
            " [9.2]\n",
            " [5.5]\n",
            " [8.3]\n",
            " [2.7]\n",
            " [7.7]\n",
            " [5.9]\n",
            " [4.5]\n",
            " [3.3]\n",
            " [1.1]\n",
            " [8.9]\n",
            " [2.5]\n",
            " [1.9]\n",
            " [6.1]\n",
            " [7.4]\n",
            " [2.7]\n",
            " [4.8]\n",
            " [3.8]\n",
            " [6.9]\n",
            " [7.8]]\n",
            "THE OUTPUT(DEPENDENT VARIABLE OR TARGET VARIABLE): [21 47 27 75 30 20 88 60 81 25 85 62 41 42 17 95 30 24 67 69 30 54 35 76\n",
            " 86]\n"
          ],
          "name": "stdout"
        }
      ]
    },
    {
      "cell_type": "markdown",
      "metadata": {
        "id": "BZlEXM8YmW3S"
      },
      "source": [
        "\n",
        "# **STEP 2:**\n",
        "# **Train the model.**"
      ]
    },
    {
      "cell_type": "code",
      "metadata": {
        "id": "8uZaLhEBLnwO"
      },
      "source": [
        "#TRAINING MODEL\n",
        "x_train,x_test,y_train,y_test=train_test_split(X,Y,test_size=0.2,random_state=0)"
      ],
      "execution_count": 41,
      "outputs": []
    },
    {
      "cell_type": "markdown",
      "metadata": {
        "id": "tmlBCp2KnTvT"
      },
      "source": [
        "# **STEP 3:**\n",
        "# **Perform linear regression**"
      ]
    },
    {
      "cell_type": "code",
      "metadata": {
        "id": "VmONpJgtOMi7",
        "outputId": "9e1dd35a-5fd6-4333-ddac-2ac3c7158f59",
        "colab": {
          "base_uri": "https://localhost:8080/"
        }
      },
      "source": [
        "#train our model\n",
        "regressor=LinearRegression()\n",
        "regressor.fit(x_train,y_train)\n"
      ],
      "execution_count": 42,
      "outputs": [
        {
          "output_type": "execute_result",
          "data": {
            "text/plain": [
              "LinearRegression(copy_X=True, fit_intercept=True, n_jobs=None, normalize=False)"
            ]
          },
          "metadata": {
            "tags": []
          },
          "execution_count": 42
        }
      ]
    },
    {
      "cell_type": "markdown",
      "metadata": {
        "id": "BGB75o55ngh0"
      },
      "source": [
        "# **STEP 4:**\n",
        "# **Construct a scatter plot with regression line**"
      ]
    },
    {
      "cell_type": "code",
      "metadata": {
        "id": "O1sualtlPPhJ",
        "outputId": "f28069ed-26ad-41c1-8c39-75ac09f3fc25",
        "colab": {
          "base_uri": "https://localhost:8080/",
          "height": 454
        }
      },
      "source": [
        "#to draw to regression line\n",
        "figure5=plt.figure(figsize=(10,7))\n",
        "line=regressor.coef_*X+regressor.intercept_\n",
        "plt.scatter(X,Y,color=\"black\")\n",
        "plt.plot(X,line,color=\"red\")\n",
        "plt.title(\"LINEAR REGRESSION PLOT OF HOURS Vs SCORES\")\n",
        "plt.xlabel(\"HOURS\")\n",
        "plt.ylabel(\"SCORES\")\n",
        "plt.show()"
      ],
      "execution_count": 48,
      "outputs": [
        {
          "output_type": "display_data",
          "data": {
            "image/png": "[encoded data removed]",
            "text/plain": [
              "<Figure size 720x504 with 1 Axes>"
            ]
          },
          "metadata": {
            "tags": []
          }
        }
      ]
    },
    {
      "cell_type": "markdown",
      "metadata": {
        "id": "LEpoYOvlqHu5"
      },
      "source": [
        "# **STEP 5**\n",
        "# **PREDICT THE VALUE:**\n",
        "**The problem is to find the score when the number of hours spent on studying is 9.25hrs**"
      ]
    },
    {
      "cell_type": "code",
      "metadata": {
        "id": "Tmvsp_uyqDV4",
        "outputId": "b357f98e-6d5f-463a-82db-6b4f10ba28db",
        "colab": {
          "base_uri": "https://localhost:8080/"
        }
      },
      "source": [
        "x=[[9.25]]\n",
        "own_predict=regressor.predict(x)\n",
        "print(\"A STUDENT WHO STUDIED FOR {} HOURS MAY GET A SCORE OF {}\".format(x[0][0],round(own_predict[0],2)))"
      ],
      "execution_count": 61,
      "outputs": [
        {
          "output_type": "stream",
          "text": [
            "A STUDENT WHO STUDIED FOR 9.25 HOURS MAY GET A SCORE OF 93.69\n"
          ],
          "name": "stdout"
        }
      ]
    },
    {
      "cell_type": "markdown",
      "metadata": {
        "id": "8nfD6v2iqlx_"
      },
      "source": [
        "# **STEP 6:**\n",
        "# **EVALUATING THE MODEL**\n",
        "**Calculating mean absolute error**\n",
        "\n",
        "**Calculating mean squared error**\n",
        "\n",
        "**Calculating root mean squared error**"
      ]
    },
    {
      "cell_type": "code",
      "metadata": {
        "id": "ZOp__LRAR5WB",
        "outputId": "10a0a2b3-7221-4d11-f909-40b036db1d44",
        "colab": {
          "base_uri": "https://localhost:8080/"
        }
      },
      "source": [
        "df3=pd.DataFrame({\"ACTUAL VALUE\":y_test,\"PREDICTED_VALUE\":predicted_values})\n",
        "print(df3)"
      ],
      "execution_count": 62,
      "outputs": [
        {
          "output_type": "stream",
          "text": [
            "   ACTUAL VALUE  PREDICTED_VALUE\n",
            "0            20        16.884145\n",
            "1            27        33.732261\n",
            "2            69        75.357018\n",
            "3            30        26.794801\n",
            "4            62        60.491033\n"
          ],
          "name": "stdout"
        }
      ]
    },
    {
      "cell_type": "code",
      "metadata": {
        "id": "L9XdwypjgY7B",
        "outputId": "d7b1ea19-ec11-4ba1-e559-8cdc27fc9ca9",
        "colab": {
          "base_uri": "https://localhost:8080/"
        }
      },
      "source": [
        "from sklearn import metrics\n",
        "abe=metrics.mean_absolute_error(df3['ACTUAL VALUE'],df3['PREDICTED_VALUE'])\n",
        "mse=metrics.mean_squared_error(df3['ACTUAL VALUE'],df3['PREDICTED_VALUE'])\n",
        "rms=metrics.r2_score(df3['ACTUAL VALUE'],df3['PREDICTED_VALUE'])\n",
        "print(\"THE MEAN ABSOLUTE ERROR : \",round(abe,3))\n",
        "print('THE MEAN SQUARED ERROR : ',round(mse,3))\n",
        "print('THE ROOT MEAN SQUARED ERROR : ',round(rms,3))"
      ],
      "execution_count": 63,
      "outputs": [
        {
          "output_type": "stream",
          "text": [
            "THE MEAN ABSOLUTE ERROR :  4.184\n",
            "THE MEAN SQUARED ERROR :  21.599\n",
            "THE ROOT MEAN SQUARED ERROR :  0.945\n"
          ],
          "name": "stdout"
        }
      ]
    },
    {
      "cell_type": "markdown",
      "metadata": {
        "id": "zGkjY-rhrJCi"
      },
      "source": [
        "# **task 2 completed**"
      ]
    }
  ]
}